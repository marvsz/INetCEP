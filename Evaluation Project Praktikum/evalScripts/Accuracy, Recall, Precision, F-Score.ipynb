{
 "cells": [
  {
   "cell_type": "markdown",
   "metadata": {},
   "source": [
    "# Using the notebook\n",
    "This notebook is created to calculate the Accuracy, Precision, Recall and F1-Score.\n",
    "q1 - q6 gold are the correct tuples that we expect as the query result.\n",
    "toCeck reads the query result with the File Name \"QueryResult\" placed in the AccuracyData folder.\n",
    "In the end all the measurements are printed on the console"
   ]
  },
  {
   "cell_type": "code",
   "execution_count": 19,
   "metadata": {},
   "outputs": [
    {
     "name": "stdout",
     "output_type": "stream",
     "text": [
      "Accuracy:1.0, Precision: 1.0, Recall: 1.0, F1-Score: 1.0\n"
     ]
    }
   ],
   "source": [
    "import numpy as np\n",
    "from sklearn.metrics import accuracy_score\n",
    "from sklearn.metrics import recall_score\n",
    "from sklearn.metrics import precision_score\n",
    "from sklearn.metrics import f1_score\n",
    "\n",
    "relevantResults = 0\n",
    "def readGoldFile(name):\n",
    "    retVal = []\n",
    "    global relevantResults\n",
    "    with open(\"AccuracyData/\"+name) as f:\n",
    "        for line in f:\n",
    "            if line.strip():\n",
    "                if(not(line.split(\" \")[0] == \"Query\")):\n",
    "                    if(relevantResults*2 != 0):\n",
    "                        retVal.append(line)\n",
    "                        relevantResults = relevantResults - 1\n",
    "    return retVal\n",
    "\n",
    "def readResultsFile(name):\n",
    "    retVal = []\n",
    "    global relevantResults\n",
    "    with open(\"AccuracyData/\"+name) as f:\n",
    "        for line in f:\n",
    "            if line.strip():\n",
    "                if(line.split(\" \")[0] == \"Query\"):\n",
    "                    relevantResults += 1\n",
    "                else:\n",
    "                    retVal.append(line)\n",
    "    return retVal\n",
    "\n",
    "q1_gold = \"Q1_Gold\"\n",
    "q2_gold = \"Q2_Gold\"\n",
    "q3_gold = \"Q3_Gold\"\n",
    "q4_gold = \"Q4_Gold\"\n",
    "q5_gold = \"Q5_Gold\"\n",
    "q6_gold = \"Q6_Gold\"\n",
    "\n",
    "toCheck = readResultsFile(\"QueryResult\")\n",
    "goldStandard = readGoldFile(q5_gold)\n",
    "\n",
    "\n",
    "print(\"Accuracy:\" + str(accuracy_score(goldStandard,toCheck)) + \", Precision: \" + str(precision_score(goldStandard,toCheck, average='micro')) + \", Recall: \" + str(recall_score(goldStandard,toCheck, average='micro')) + \", F1-Score: \"+ str(f1_score(goldStandard,toCheck, average='micro')))\n",
    "\n"
   ]
  },
  {
   "cell_type": "markdown",
   "metadata": {},
   "source": []
  },
  {
   "cell_type": "code",
   "execution_count": null,
   "metadata": {},
   "outputs": [],
   "source": []
  }
 ],
 "metadata": {
  "kernelspec": {
   "display_name": "Python 3",
   "language": "python",
   "name": "python3"
  },
  "language_info": {
   "codemirror_mode": {
    "name": "ipython",
    "version": 3
   },
   "file_extension": ".py",
   "mimetype": "text/x-python",
   "name": "python",
   "nbconvert_exporter": "python",
   "pygments_lexer": "ipython3",
   "version": "3.6.7"
  }
 },
 "nbformat": 4,
 "nbformat_minor": 2
}
